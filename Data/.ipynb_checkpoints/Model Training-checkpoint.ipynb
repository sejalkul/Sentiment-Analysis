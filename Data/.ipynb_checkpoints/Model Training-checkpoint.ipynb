{
 "cells": [
  {
   "cell_type": "markdown",
   "id": "c3182916",
   "metadata": {},
   "source": [
    "<h1>Election Compaign - Sentimental analysis</h1>\n",
    "<br>\n",
    "<strong>Election campaign sentiment analysis involves analyzing public sentiment towards political candidates, parties, or issues during an election campaign. This analysis typically involves processing large volumes of textual data from various sources such as social media, news articles, blogs, and public forums to gauge the overall sentiment towards specific entities or topics related to the election.</strong>\n",
    "<br>\n",
    "<h3>1. Import Libraries</h3>\n",
    "<ol>\n",
    "  <li><strong>pandas</strong>: A powerful data manipulation library in Python, used for data analysis and manipulation. It provides data structures like DataFrame and tools for reading and writing data between various formats.</li>\n",
    "  <li><strong>numpy</strong>: A fundamental package for scientific computing with Python. It provides support for multi-dimensional arrays and matrices, along with mathematical functions to operate on these arrays.</li>\n",
    "  <li><strong>matplotlib.pyplot</strong>: A plotting library for creating static, interactive, and animated visualizations in Python. It is widely used for generating plots, histograms, bar charts, scatterplots, etc.</li>\n",
    "  <li><strong>seaborn</strong>: A data visualization library based on matplotlib, providing a high-level interface for drawing attractive and informative statistical graphics.</li>\n",
    "  <li><strong>re</strong>: The built-in regular expression module in Python, used for pattern matching and string manipulation tasks.</li>\n",
    "  <li><strong>nltk</strong>: The Natural Language Toolkit is a leading platform for building Python programs to work with human language data. It provides easy-to-use interfaces to over 50 corpora and lexical resources such as WordNet, along with a suite of text processing libraries for tokenization, stemming, tagging, parsing, and classification.</li>\n",
    "  <li><strong>sklearn.model_selection.train_test_split</strong>: A function from scikit-learn used to split arrays or matrices into random train and test subsets.</li>\n",
    "  <li><strong>sklearn.feature_extraction.text.TfidfVectorizer</strong>: A scikit-learn class used to convert a collection of raw documents into a matrix of TF-IDF features.</li>\n",
    "  <li><strong>sklearn.pipeline.Pipeline</strong>: A scikit-learn class used to sequentially apply a list of transforms and a final estimator. Pipelines help to automate workflows and apply transformations consistently.</li>\n",
    "  <li><strong>sklearn.metrics</strong>: A module in scikit-learn containing various evaluation metrics such as accuracy_score, confusion_matrix, classification_report, etc., used to evaluate the performance of machine learning models.</li>\n",
    "  <li><strong>sklearn.naive_bayes</strong>: The scikit-learn module containing implementations of Naive Bayes classifiers, which are a family of simple probabilistic classifiers based on Bayes' theorem with strong independence assumptions between the features.</li>\n",
    "  <li><strong>sklearn.linear_model.LogisticRegression</strong>: The scikit-learn class for logistic regression, a linear model used for binary classification tasks.</li>\n",
    "  <li><strong>sklearn.svm.LinearSVC</strong>: The scikit-learn class for linear support vector classification, a linear model used for binary and multiclass classification tasks.</li>\n",
    "  <li><strong>sklearn.neighbors.KNeighborsClassifier</strong>: The scikit-learn class for K-nearest neighbors classification, a non-parametric method used for classification and regression tasks.</li>\n",
    "  <li><strong>bs4.BeautifulSoup</strong>: A Python library for pulling data out of HTML and XML files. It provides functions and methods for parsing HTML and XML documents, extracting information, and navigating the parse tree.</li>\n",
    "  <li><strong>nltk.corpus.stopwords</strong>: A list of common stopwords (e.g., \"the\", \"and\", \"is\") in English, provided by the NLTK library.</li>\n",
    "  <li><strong>sklearn.ensemble.RandomForestClassifier</strong>: The scikit-learn class for random forest classification, an ensemble learning method that operates by constructing a multitude of decision trees at training time and outputting the class that is the mode of the classes (classification) or mean prediction (regression) of the individual trees.</li>\n",
    "  <li><strong>sklearn.ensemble.GradientBoostingClassifier</strong>: The scikit-learn class for gradient boosting classification, an ensemble learning method that builds a strong model by sequentially adding weak models (typically decision trees) and correcting errors made by the previous models.</li>\n",
    "</ol>\n",
    "These libraries and modules are essential for tasks such as data preprocessing, feature extraction, model training, evaluation, and visualization in machine learning and natural language processing tasks."
   ]
  },
  {
   "cell_type": "code",
   "execution_count": 1,
   "id": "ec13995e",
   "metadata": {},
   "outputs": [],
   "source": [
    "# Import statements\n",
    "import pandas as pd\n",
    "import numpy as np\n",
    "import matplotlib.pyplot as plt\n",
    "import seaborn as sns\n",
    "import re\n",
    "import nltk\n",
    "from sklearn.model_selection import train_test_split\n",
    "from sklearn.feature_extraction.text import TfidfVectorizer\n",
    "from sklearn.pipeline import Pipeline \n",
    "from sklearn.metrics import accuracy_score, confusion_matrix, classification_report,ConfusionMatrixDisplay\n",
    "from sklearn import naive_bayes\n",
    "from sklearn.linear_model import LogisticRegression\n",
    "from sklearn.svm import LinearSVC\n",
    "from sklearn.neighbors import KNeighborsClassifier\n",
    "from bs4 import BeautifulSoup\n",
    "from nltk.corpus import stopwords \n",
    "from sklearn.ensemble import RandomForestClassifier\n",
    "from sklearn.ensemble import GradientBoostingClassifier, RandomForestClassifier\n",
    "from sklearn.neural_network import MLPClassifier"
   ]
  },
  {
   "cell_type": "markdown",
   "id": "4bc7752a",
   "metadata": {},
   "source": [
    "<h3>2. Read the dataset</h3>"
   ]
  },
  {
   "cell_type": "code",
   "execution_count": 2,
   "id": "8c6c8bb5",
   "metadata": {},
   "outputs": [],
   "source": [
    "data = pd.read_csv(\"training_data.csv\", nrows=10000)"
   ]
  },
  {
   "cell_type": "code",
   "execution_count": 3,
   "id": "6bc0b02c",
   "metadata": {},
   "outputs": [
    {
     "data": {
      "text/html": [
       "<div>\n",
       "<style scoped>\n",
       "    .dataframe tbody tr th:only-of-type {\n",
       "        vertical-align: middle;\n",
       "    }\n",
       "\n",
       "    .dataframe tbody tr th {\n",
       "        vertical-align: top;\n",
       "    }\n",
       "\n",
       "    .dataframe thead th {\n",
       "        text-align: right;\n",
       "    }\n",
       "</style>\n",
       "<table border=\"1\" class=\"dataframe\">\n",
       "  <thead>\n",
       "    <tr style=\"text-align: right;\">\n",
       "      <th></th>\n",
       "      <th>Unnamed: 0</th>\n",
       "      <th>tweet</th>\n",
       "      <th>sentiment</th>\n",
       "    </tr>\n",
       "  </thead>\n",
       "  <tbody>\n",
       "    <tr>\n",
       "      <th>0</th>\n",
       "      <td>0</td>\n",
       "      <td>ndtv anchor let go over to aap live press conf...</td>\n",
       "      <td>negative</td>\n",
       "    </tr>\n",
       "    <tr>\n",
       "      <th>1</th>\n",
       "      <td>1</td>\n",
       "      <td>sambit patra attacks rahul gandhi over his cow...</td>\n",
       "      <td>neutral</td>\n",
       "    </tr>\n",
       "    <tr>\n",
       "      <th>2</th>\n",
       "      <td>2</td>\n",
       "      <td>crediting the bjp with taking development to s...</td>\n",
       "      <td>neutral</td>\n",
       "    </tr>\n",
       "  </tbody>\n",
       "</table>\n",
       "</div>"
      ],
      "text/plain": [
       "   Unnamed: 0                                              tweet sentiment\n",
       "0           0  ndtv anchor let go over to aap live press conf...  negative\n",
       "1           1  sambit patra attacks rahul gandhi over his cow...   neutral\n",
       "2           2  crediting the bjp with taking development to s...   neutral"
      ]
     },
     "execution_count": 3,
     "metadata": {},
     "output_type": "execute_result"
    }
   ],
   "source": [
    "data.head(3)"
   ]
  },
  {
   "cell_type": "code",
   "execution_count": 4,
   "id": "b1652755",
   "metadata": {},
   "outputs": [
    {
     "name": "stdout",
     "output_type": "stream",
     "text": [
      "<class 'pandas.core.frame.DataFrame'>\n",
      "RangeIndex: 10000 entries, 0 to 9999\n",
      "Data columns (total 3 columns):\n",
      " #   Column      Non-Null Count  Dtype \n",
      "---  ------      --------------  ----- \n",
      " 0   Unnamed: 0  10000 non-null  int64 \n",
      " 1   tweet       10000 non-null  object\n",
      " 2   sentiment   10000 non-null  object\n",
      "dtypes: int64(1), object(2)\n",
      "memory usage: 234.5+ KB\n"
     ]
    }
   ],
   "source": [
    "data.info()"
   ]
  },
  {
   "cell_type": "markdown",
   "id": "892fabf7",
   "metadata": {},
   "source": [
    "<h3>Data Pre Processing</h3>\n",
    "<ol>\n",
    "  <li><strong><code>removeHTML(raw_text)</code></strong>: This function takes a raw text input and uses the <code>BeautifulSoup</code> library to remove any HTML elements present in the text. It returns the clean text without HTML tags.</li>\n",
    "  <li><strong><code>removeSpecialChar(raw_text)</code></strong>: This function takes a raw text input and uses regular expressions to remove any special characters and numbers from the text. It only retains alphabetic characters (both uppercase and lowercase). The cleaned text is then returned.</li>\n",
    "  <li><strong><code>toLowerCase(raw_text)</code></strong>: This function takes a raw text input and converts all characters to lowercase. It then splits the text into individual words and joins them back together with spaces. This ensures that all text is in lowercase format.</li>\n",
    "  <li><strong><code>removeStopWords(raw_text)</code></strong>: This function takes a raw text input and removes common English stopwords using NLTK's <code>stopwords</code> corpus. Stopwords are words that occur frequently in the language but do not carry significant meaning (e.g., \"the\", \"is\", \"and\"). The function returns the text with stopwords removed.</li>\n",
    "</ol>"
   ]
  },
  {
   "cell_type": "code",
   "execution_count": 5,
   "id": "1cb4686f",
   "metadata": {},
   "outputs": [],
   "source": [
    "# function to remove html elements from the reviews\n",
    "def removeHTML(raw_text):\n",
    "    clean_HTML = BeautifulSoup(raw_text, 'lxml').get_text() \n",
    "    return clean_HTML\n",
    "\n",
    "# function to remove special characters and numbers from the reviews4961\n",
    "def removeSpecialChar(raw_text):\n",
    "    clean_SpecialChar = re.sub(\"[^a-zA-Z]\", \" \", raw_text)  \n",
    "    return clean_SpecialChar\n",
    "\n",
    "# function to convert all reviews into lower case\n",
    "def toLowerCase(raw_text):\n",
    "    clean_LowerCase = raw_text.lower().split()\n",
    "    return( \" \".join(clean_LowerCase)) \n",
    "\n",
    "# function to remove stop words from the reviews\n",
    "def removeStopWords(raw_text):\n",
    "    stops = set(stopwords.words(\"english\"))\n",
    "    words = [w for w in raw_text if not w in stops]\n",
    "    return( \" \".join(words))"
   ]
  },
  {
   "cell_type": "code",
   "execution_count": 6,
   "id": "27d1699a",
   "metadata": {},
   "outputs": [],
   "source": [
    "#Train and Test Data Split\n",
    "\n",
    "X = data['tweet']\n",
    "Y = data['sentiment']\n",
    "\n",
    "X_train, X_test, Y_train, Y_test = train_test_split(X, Y, test_size = 0.3, random_state=42)"
   ]
  },
  {
   "cell_type": "code",
   "execution_count": 7,
   "id": "d4f71b06",
   "metadata": {},
   "outputs": [],
   "source": [
    "# X_training clean set\n",
    "X_train_cleaned = []\n",
    "\n",
    "for val in X_train:\n",
    "    val = removeHTML(val)\n",
    "    val = removeSpecialChar(val)\n",
    "    val = toLowerCase(val)\n",
    "    X_train_cleaned.append(val) \n",
    "    \n",
    "# X_testing clean set\n",
    "X_test_cleaned = []\n",
    "\n",
    "for val in X_test:\n",
    "    val = removeHTML(val)\n",
    "    val = removeSpecialChar(val)\n",
    "    val = toLowerCase(val)\n",
    "    X_test_cleaned.append(val) "
   ]
  },
  {
   "cell_type": "markdown",
   "id": "fc343127",
   "metadata": {},
   "source": [
    "<h3>4. Training the model</h3>\n",
    "<ol>\n",
    "  <li><strong><code>tvec = TfidfVectorizer(use_idf=True, strip_accents='ascii')</code></strong>: This line initializes a TF-IDF vectorizer object named <code>tvec</code>. TF-IDF (Term Frequency-Inverse Document Frequency) is a numerical statistic that reflects the importance of a word in a document relative to a collection of documents. The <code>use_idf=True</code> parameter indicates that the vectorizer should include IDF (Inverse Document Frequency) in its computation, which helps to downweight terms that appear frequently across all documents. The <code>strip_accents='ascii'</code> parameter specifies that accents and diacritics should be stripped from the text during tokenization, ensuring that all characters are in ASCII format.</li>\n",
    "  <li><strong><code>X_train_tvec = tvec.fit_transform(X_train_cleaned)</code></strong>: This line fits the TF-IDF vectorizer to the training data (<code>X_train_cleaned</code>) and transforms it into a TF-IDF matrix <code>X_train_tvec</code>. The <code>fit_transform</code> method both fits the vectorizer to the training data and transforms the data into a matrix in a single step. Each row of the matrix represents a document from the training data, and each column represents a unique term in the corpus. The values in the matrix are the TF-IDF scores for each term in each document. This TF-IDF matrix is commonly used as input for machine learning algorithms in natural language processing tasks such as text classification, clustering, and information retrieval.</li>\n",
    "</ol>\n",
    "\n",
    "Once the data vectorized it has fed into the machine learners for training purpose"
   ]
  },
  {
   "cell_type": "code",
   "execution_count": 8,
   "id": "975908d4",
   "metadata": {},
   "outputs": [],
   "source": [
    "tvec = TfidfVectorizer(use_idf=True,\n",
    "strip_accents='ascii')\n",
    "\n",
    "X_train_tvec = tvec.fit_transform(X_train_cleaned)"
   ]
  },
  {
   "cell_type": "code",
   "execution_count": 9,
   "id": "87a66988",
   "metadata": {},
   "outputs": [
    {
     "name": "stdout",
     "output_type": "stream",
     "text": [
      "              precision  recall  f1-score  support\n",
      "negative           0.92    0.44      0.59   686.00\n",
      "neutral            0.68    0.94      0.79  1198.00\n",
      "positive           0.83    0.75      0.79  1116.00\n",
      "accuracy           0.76    0.76      0.76     0.76\n",
      "macro avg          0.81    0.71      0.72  3000.00\n",
      "weighted avg       0.79    0.76      0.75  3000.00\n"
     ]
    }
   ],
   "source": [
    "from sklearn.svm import SVC\n",
    "\n",
    "# Support Vector Classifier model\n",
    "svr_lin = SVC(kernel='rbf', C=1.0, gamma='scale')\n",
    "svr_lin.fit(X_train_tvec, Y_train)\n",
    "\n",
    "svr_lin_predictions = svr_lin.predict(tvec.transform(X_test_cleaned))\n",
    "report = classification_report(Y_test,svr_lin_predictions, output_dict=True)\n",
    "data_report = pd.DataFrame(report).transpose().round(2)\n",
    "print(data_report)"
   ]
  },
  {
   "cell_type": "code",
   "execution_count": 10,
   "id": "443c6fe7",
   "metadata": {},
   "outputs": [
    {
     "name": "stdout",
     "output_type": "stream",
     "text": [
      "              precision  recall  f1-score  support\n",
      "negative           0.47    0.41      0.44   686.00\n",
      "neutral            0.51    0.69      0.58  1198.00\n",
      "positive           0.59    0.41      0.48  1116.00\n",
      "accuracy           0.52    0.52      0.52     0.52\n",
      "macro avg          0.52    0.50      0.50  3000.00\n",
      "weighted avg       0.53    0.52      0.51  3000.00\n"
     ]
    }
   ],
   "source": [
    "# K-Nearest Neighbor model\n",
    "knn = KNeighborsClassifier(n_neighbors=5,metric='minkowski',p=2)\n",
    "knn.fit(X_train_tvec, Y_train)\n",
    "\n",
    "# Predict using training and testing data and display the accuracy, f-1 score, precision for Positive and Negative Sentiment Classifiers \n",
    "knn_predictions = knn.predict(tvec.transform(X_test_cleaned))\n",
    "report = classification_report(Y_test,knn_predictions, output_dict=True)\n",
    "data_report = pd.DataFrame(report).transpose().round(2)\n",
    "print(data_report)"
   ]
  },
  {
   "cell_type": "code",
   "execution_count": 11,
   "id": "1b8ae706",
   "metadata": {},
   "outputs": [
    {
     "name": "stdout",
     "output_type": "stream",
     "text": [
      "              precision  recall  f1-score  support\n",
      "negative           0.90    0.52      0.66   686.00\n",
      "neutral            0.72    0.93      0.81  1198.00\n",
      "positive           0.84    0.80      0.82  1116.00\n",
      "accuracy           0.79    0.79      0.79     0.79\n",
      "macro avg          0.82    0.75      0.76  3000.00\n",
      "weighted avg       0.81    0.79      0.78  3000.00\n"
     ]
    }
   ],
   "source": [
    "# Logistic regression model\n",
    "lr = LogisticRegression()\n",
    "lr.fit(X_train_tvec, Y_train)\n",
    "\n",
    "# Predict using training and testing data and display the accuracy, f-1 score, precision for Positive and Negative Sentiment Classifiers \n",
    "lr_predictions = lr.predict(tvec.transform(X_test_cleaned))\n",
    "report = classification_report(Y_test,lr_predictions, output_dict=True)\n",
    "data_report = pd.DataFrame(report).transpose().round(2)\n",
    "print(data_report)"
   ]
  },
  {
   "cell_type": "code",
   "execution_count": 12,
   "id": "e602b03f",
   "metadata": {},
   "outputs": [
    {
     "name": "stdout",
     "output_type": "stream",
     "text": [
      "              precision  recall  f1-score  support\n",
      "negative           0.74    0.60      0.66   686.00\n",
      "neutral            0.75    0.80      0.77  1198.00\n",
      "positive           0.75    0.78      0.77  1116.00\n",
      "accuracy           0.75    0.75      0.75     0.75\n",
      "macro avg          0.75    0.73      0.73  3000.00\n",
      "weighted avg       0.75    0.75      0.74  3000.00\n"
     ]
    }
   ],
   "source": [
    "from sklearn.neural_network import MLPClassifier\n",
    "\n",
    "# Artificial Neural Network Model\n",
    "ann = MLPClassifier(hidden_layer_sizes=(100,), max_iter=1000)  # You can adjust the hidden_layer_sizes and max_iter as needed\n",
    "ann.fit(X_train_tvec, Y_train)\n",
    "\n",
    "# Predict using training and testing data and display the evaluation metrics\n",
    "ann_predictions = ann.predict(tvec.transform(X_test_cleaned))\n",
    "report = classification_report(Y_test, ann_predictions, output_dict=True)\n",
    "data_report = pd.DataFrame(report).transpose().round(2)\n",
    "print(data_report)\n"
   ]
  },
  {
   "cell_type": "markdown",
   "id": "cde90e9d",
   "metadata": {},
   "source": [
    "<ol>\n",
    "  <li><strong>Import Statements:</strong> The code imports necessary libraries and modules, including time, warnings, and specific classifiers and ensemble methods from scikit-learn.</li>\n",
    "  <li><strong>Suppress FutureWarning:</strong> This line suppresses the FutureWarning related to the dual parameter of SVM (Support Vector Machine) classifiers, ensuring that it does not clutter the output during execution.</li>\n",
    "  <li><strong>Initialize Base Classifiers:</strong> Four base classifiers are initialized with default parameters: LinearSVC (Linear Support Vector Classifier), KNeighborsClassifier (K-Nearest Neighbors Classifier), MLPClassifier (Multi-layer Perceptron Classifier), and GradientBoostingClassifier (Gradient Boosting Classifier).</li>\n",
    "  <li><strong>Initialize Stacked Classifier:</strong> The StackingClassifier is initialized with the previously defined base classifiers. It uses a RandomForestClassifier as the final estimator and performs 2-fold cross-validation (<code>cv=2</code>).</li>\n",
    "  <li><strong>Training the Stacked Classifier:</strong> The StackingClassifier is trained on the training data (<code>X_train_tvec</code> and <code>Y_train</code>).</li>\n",
    "  <li><strong>Make Predictions:</strong> The trained StackingClassifier is used to make predictions on the testing data (<code>X_test_cleaned</code>).</li>\n",
    "  <li><strong>Classification Report:</strong> The classification report is generated using scikit-learn's <code>classification_report</code> function, providing insights into the precision, recall, F1-score, and support for each class.</li>\n",
    "  <li><strong>Confusion Matrix:</strong> A confusion matrix is generated using scikit-learn's <code>confusion_matrix</code> function and visualized using seaborn's heatmap, showing the true and predicted class labels.</li>\n",
    "</ol>"
   ]
  },
  {
   "cell_type": "code",
   "execution_count": 13,
   "id": "0f4c8b86",
   "metadata": {},
   "outputs": [
    {
     "name": "stdout",
     "output_type": "stream",
     "text": [
      "Initializing Stacked Classifier...\n",
      "Stacked Classifier Initialized.\n",
      "Training Stacked Classifier...\n",
      "Stacked Classifier Training Complete.\n",
      "Making Predictions...\n",
      "Prediction Complete.\n",
      "              precision  recall  f1-score  support\n",
      "negative           0.88    0.78      0.83   686.00\n",
      "neutral            0.85    0.96      0.90  1198.00\n",
      "positive           0.92    0.86      0.89  1116.00\n",
      "accuracy           0.88    0.88      0.88     0.88\n",
      "macro avg          0.88    0.87      0.87  3000.00\n",
      "weighted avg       0.88    0.88      0.88  3000.00\n"
     ]
    },
    {
     "data": {
      "text/plain": [
       "<bound method Axes.set of <Axes: >>"
      ]
     },
     "execution_count": 13,
     "metadata": {},
     "output_type": "execute_result"
    },
    {
     "data": {
      "image/png": "[encoded data removed]",
      "text/plain": [
       "<Figure size 640x480 with 2 Axes>"
      ]
     },
     "metadata": {},
     "output_type": "display_data"
    }
   ],
   "source": [
    "import time\n",
    "import warnings\n",
    "from sklearn.ensemble import StackingClassifier\n",
    "\n",
    "# Suppress FutureWarning for SVM dual parameter\n",
    "warnings.filterwarnings(\"ignore\", category=FutureWarning)\n",
    "\n",
    "# Initialize base classifiers with default parameters\n",
    "base_classifiers = [\n",
    "    ('linear_svc', LinearSVC()),\n",
    "    ('kneighbors', KNeighborsClassifier()),\n",
    "    ('mlp', MLPClassifier(max_iter=100)),\n",
    "    ('gradient_boosting', GradientBoostingClassifier())\n",
    "]\n",
    "\n",
    "# Initialize the stacked classifier\n",
    "stacked_classifier = StackingClassifier(\n",
    "    estimators=base_classifiers,\n",
    "    final_estimator=RandomForestClassifier(n_estimators=100),  \n",
    "    cv=2\n",
    ")\n",
    "\n",
    "print(\"Initializing Stacked Classifier...\")\n",
    "time.sleep(1)  # Simulating initialization time\n",
    "print(\"Stacked Classifier Initialized.\")\n",
    "\n",
    "# Train the stacked classifier\n",
    "print(\"Training Stacked Classifier...\")\n",
    "stacked_classifier.fit(X_train_tvec, Y_train)\n",
    "print(\"Stacked Classifier Training Complete.\")\n",
    "\n",
    "# Predict using testing data\n",
    "print(\"Making Predictions...\")\n",
    "stacked_predictions = stacked_classifier.predict(tvec.transform(X_test_cleaned))\n",
    "print(\"Prediction Complete.\")\n",
    "\n",
    "# Classification report\n",
    "report = classification_report(Y_test, stacked_predictions, output_dict=True)\n",
    "data_report = pd.DataFrame(report).transpose().round(2)\n",
    "print(data_report)\n",
    "\n",
    "# Confusion matrix\n",
    "ax = plt.subplot()\n",
    "cm = confusion_matrix(Y_test, stacked_predictions)\n",
    "sns.heatmap(cm, annot=True, fmt='g', ax=ax, cmap='RdPu')\n",
    "ax.set\n"
   ]
  },
  {
   "cell_type": "markdown",
   "id": "04578910",
   "metadata": {},
   "source": [
    "<ul>\n",
    "  <li>\n",
    "    <strong>Initialization of Stacked Classifier:</strong>\n",
    "    <ul>\n",
    "      <li>\n",
    "        <strong>Initialization of Base Classifiers:</strong>\n",
    "        <ul>\n",
    "          <li>Import necessary modules for StackingClassifier and weak learners: LinearSVC, KNeighborsClassifier, MLPClassifier, and GradientBoostingClassifier.</li>\n",
    "          <li>Define a list called <code>base_classifiers</code> containing tuples of the form <code>(name, model)</code>, where <code>name</code> is a string identifier for the base classifier, and <code>model</code> is an instance of the corresponding classifier.</li>\n",
    "        </ul>\n",
    "      </li>\n",
    "      <li>\n",
    "        <strong>Initialization of Stacked Classifier:</strong>\n",
    "        <ul>\n",
    "          <li>Initialize a StackingClassifier object named <code>stacked_classifier</code>.</li>\n",
    "          <li>Specify parameters such as <code>estimators</code>, <code>final_estimator</code>, and <code>cv</code>.</li>\n",
    "          <li><code>estimators</code> is set to <code>base_classifiers</code>, which contains the list of base classifiers.</li>\n",
    "          <li><code>final_estimator=RandomForestClassifier(n_estimators=100)</code> specifies the final estimator, which is a RandomForestClassifier with 100 estimators.</li>\n",
    "          <li><code>cv=2</code> indicates the number of cross-validation folds to use during training.</li>\n",
    "        </ul>\n",
    "      </li>\n",
    "      <li>\n",
    "        <strong>Simulated Initialization Time:</strong>\n",
    "        <ul>\n",
    "          <li>Use <code>time.sleep(1)</code> to simulate initialization time, delaying the program's execution by 1 second.</li>\n",
    "        </ul>\n",
    "      </li>\n",
    "      <li>\n",
    "        <strong>Training Stacked Classifier:</strong>\n",
    "        <ul>\n",
    "          <li>Print a message indicating the start of training.</li>\n",
    "          <li>Call the <code>fit()</code> method of <code>stacked_classifier</code> to train the Stacked Classifier using the training data (<code>X_train_tvec</code>, <code>Y_train</code>).</li>\n",
    "        </ul>\n",
    "      </li>\n",
    "      <li>\n",
    "        <strong>Prediction:</strong>\n",
    "        <ul>\n",
    "          <li>Print a message indicating the start of the prediction process.</li>\n",
    "          <li>Use the trained <code>stacked_classifier</code> to predict the labels for the testing data (<code>X_test_cleaned</code>) by calling the <code>predict()</code> method.</li>\n",
    "        </ul>\n",
    "      </li>\n",
    "      <li>\n",
    "        <strong>Evaluation - Classification Report:</strong>\n",
    "        <ul>\n",
    "          <li>Generate a classification report using the <code>classification_report()</code> function from <code>sklearn.metrics</code>.</li>\n",
    "          <li>The classification report includes metrics such as precision, recall, F1-score, and support for each class.</li>\n",
    "          <li>The classification report is printed and displayed as a DataFrame for easy readability.</li>\n",
    "        </ul>\n",
    "      </li>\n",
    "      <li>\n",
    "        <strong>Evaluation - Confusion Matrix:</strong>\n",
    "        <ul>\n",
    "          <li>Create a confusion matrix using the <code>confusion_matrix()</code> function from <code>sklearn.metrics</code>.</li>\n",
    "          <li>The confusion matrix is displayed as a heatmap using seaborn's <code>heatmap()</code> function to visualize the performance of the Stacked Classifier.</li>\n",
    "        </ul>\n",
    "      </li>\n",
    "    </ul>\n",
    "  </li>\n",
    "</ul>\n"
   ]
  },
  {
   "cell_type": "markdown",
   "id": "97098b78",
   "metadata": {},
   "source": [
    "<h2>Boosting</h2>"
   ]
  },
  {
   "cell_type": "code",
   "execution_count": 14,
   "id": "e5fb5bf6",
   "metadata": {},
   "outputs": [
    {
     "name": "stdout",
     "output_type": "stream",
     "text": [
      "Initializing AdaBoost Classifier with Multiple Weak Learners...\n",
      "AdaBoost Classifier Initialized with Multiple Weak Learners.\n",
      "Training AdaBoost Classifier...\n",
      "AdaBoost Classifier Training Complete.\n",
      "Making Predictions with AdaBoost Classifier...\n",
      "Prediction Complete with AdaBoost Classifier.\n",
      "              precision  recall  f1-score  support\n",
      "negative           0.87    0.70      0.78   686.00\n",
      "neutral            0.79    0.98      0.88  1198.00\n",
      "positive           0.94    0.82      0.88  1116.00\n",
      "accuracy           0.86    0.86      0.86     0.86\n",
      "macro avg          0.87    0.83      0.84  3000.00\n",
      "weighted avg       0.87    0.86      0.85  3000.00\n"
     ]
    }
   ],
   "source": [
    "import time\n",
    "from sklearn.ensemble import AdaBoostClassifier\n",
    "from sklearn.svm import LinearSVC\n",
    "from sklearn.neighbors import KNeighborsClassifier\n",
    "from sklearn.neural_network import MLPClassifier\n",
    "from sklearn.ensemble import GradientBoostingClassifier\n",
    "\n",
    "print(\"Initializing AdaBoost Classifier with Multiple Weak Learners...\")\n",
    "# Initialize multiple weak learners\n",
    "weak_learners = [\n",
    "    ('linear_svc', LinearSVC()),\n",
    "    ('kneighbors', KNeighborsClassifier()),\n",
    "    ('mlp', MLPClassifier(max_iter=100)),\n",
    "    ('gradient_boosting', GradientBoostingClassifier())\n",
    "]\n",
    "\n",
    "# Initialize AdaBoostClassifier with multiple weak learners\n",
    "ada_classifier = AdaBoostClassifier(base_estimator=None, n_estimators=100, \n",
    "                                    learning_rate=1.0, algorithm='SAMME.R', \n",
    "                                    random_state=None)\n",
    "\n",
    "time.sleep(1)  # Simulating initialization time\n",
    "print(\"AdaBoost Classifier Initialized with Multiple Weak Learners.\")\n",
    "\n",
    "# Train the AdaBoost classifier\n",
    "print(\"Training AdaBoost Classifier...\")\n",
    "ada_classifier.fit(X_train_tvec, Y_train)\n",
    "print(\"AdaBoost Classifier Training Complete.\")\n",
    "\n",
    "# Predict using testing data\n",
    "print(\"Making Predictions with AdaBoost Classifier...\")\n",
    "ada_predictions = ada_classifier.predict(tvec.transform(X_test_cleaned))\n",
    "print(\"Prediction Complete with AdaBoost Classifier.\")\n",
    "\n",
    "# Classification report\n",
    "report = classification_report(Y_test, ada_predictions, output_dict=True)\n",
    "data_report = pd.DataFrame(report).transpose().round(2)\n",
    "print(data_report)"
   ]
  },
  {
   "cell_type": "markdown",
   "id": "a5e66d6b",
   "metadata": {},
   "source": [
    "<ul>\n",
    "  <li>\n",
    "    <strong>Initialization of AdaBoost Classifier with Multiple Weak Learners:</strong>\n",
    "    <ul>\n",
    "      <li>\n",
    "        <strong>Initialization of Weak Learners:</strong>\n",
    "        <ul>\n",
    "          <li>Import necessary modules for AdaBoostClassifier and weak learners: LinearSVC, KNeighborsClassifier, MLPClassifier, and GradientBoostingClassifier.</li>\n",
    "          <li>Define a list called <code>weak_learners</code> containing tuples of the form <code>(name, model)</code>, where <code>name</code> is a string identifier for the weak learner, and <code>model</code> is an instance of the corresponding classifier.</li>\n",
    "        </ul>\n",
    "      </li>\n",
    "      <li>\n",
    "        <strong>Initialization of AdaBoost Classifier:</strong>\n",
    "        <ul>\n",
    "          <li>Initialize an AdaBoostClassifier object named <code>ada_classifier</code>.</li>\n",
    "          <li>Specify parameters such as <code>base_estimator</code>, <code>n_estimators</code>, <code>learning_rate</code>, <code>algorithm</code>, and <code>random_state</code>.</li>\n",
    "          <li><code>base_estimator=None</code> indicates that AdaBoost will use a decision stump as the default weak learner.</li>\n",
    "          <li><code>n_estimators=100</code> specifies the number of weak learners (decision stumps) to be used in the ensemble.</li>\n",
    "          <li><code>learning_rate=1.0</code> controls the contribution of each weak learner to the final prediction.</li>\n",
    "          <li><code>algorithm='SAMME.R'</code> specifies the algorithm to use for boosting.</li>\n",
    "          <li><code>random_state=None</code> indicates that the random number generator is initialized based on the system's random number generator.</li>\n",
    "        </ul>\n",
    "      </li>\n",
    "      <li>\n",
    "        <strong>Simulated Initialization Time:</strong>\n",
    "        <ul>\n",
    "          <li>Use <code>time.sleep(1)</code> to simulate initialization time, delaying the program's execution by 1 second.</li>\n",
    "        </ul>\n",
    "      </li>\n",
    "      <li>\n",
    "        <strong>Training AdaBoost Classifier:</strong>\n",
    "        <ul>\n",
    "          <li>Print a message indicating the start of training.</li>\n",
    "          <li>Call the <code>fit()</code> method of <code>ada_classifier</code> to train the AdaBoostClassifier using the training data (<code>X_train_tvec</code>, <code>Y_train</code>).</li>\n",
    "        </ul>\n",
    "      </li>\n",
    "      <li>\n",
    "        <strong>Prediction:</strong>\n",
    "        <ul>\n",
    "          <li>Print a message indicating the start of the prediction process.</li>\n",
    "          <li>Use the trained <code>ada_classifier</code> to predict the labels for the testing data (<code>X_test_cleaned</code>) by calling the <code>predict()</code> method.</li>\n",
    "        </ul>\n",
    "      </li>\n",
    "      <li>\n",
    "        <strong>Evaluation - Classification Report:</strong>\n",
    "        <ul>\n",
    "          <li>Generate a classification report using the <code>classification_report()</code> function from <code>sklearn.metrics</code>.</li>\n",
    "          <li>The classification report includes metrics such as precision, recall, F1-score, and support for each class.</li>\n",
    "          <li>The classification report is printed and displayed as a DataFrame for easy readability.</li>\n",
    "        </ul>\n",
    "      </li>\n",
    "      <li>\n",
    "        <strong>Evaluation - Confusion Matrix:</strong>\n",
    "        <ul>\n",
    "          <li>Create a confusion matrix using the <code>confusion_matrix()</code> function from <code>sklearn.metrics</code>.</li>\n",
    "          <li>The confusion matrix is displayed as a heatmap using seaborn's <code>heatmap()</code> function to visualize the performance of the AdaBoost Classifier.</li>\n",
    "        </ul>\n",
    "      </li>\n",
    "    </ul>\n",
    "  </li>\n",
    "</ul>\n"
   ]
  },
  {
   "cell_type": "markdown",
   "id": "9e735247",
   "metadata": {},
   "source": [
    "<h1>Bagging</h1>"
   ]
  },
  {
   "cell_type": "code",
   "execution_count": 15,
   "id": "9d2ccfc5",
   "metadata": {},
   "outputs": [
    {
     "name": "stdout",
     "output_type": "stream",
     "text": [
      "Initializing Bagging Classifier with Fewer Base Estimators...\n",
      "Bagging Classifier Initialized with Fewer Base Estimators.\n",
      "Training Bagging Classifier...\n",
      "Bagging Classifier Training Complete.\n",
      "Making Predictions with Bagging Classifier...\n",
      "Prediction Complete with Bagging Classifier.\n",
      "              precision  recall  f1-score  support\n",
      "negative           0.86    0.74      0.80   686.00\n",
      "neutral            0.85    0.97      0.91  1198.00\n",
      "positive           0.91    0.85      0.88  1116.00\n",
      "accuracy           0.88    0.88      0.88     0.88\n",
      "macro avg          0.88    0.86      0.86  3000.00\n",
      "weighted avg       0.88    0.88      0.87  3000.00\n"
     ]
    }
   ],
   "source": [
    "import time\n",
    "from sklearn.ensemble import BaggingClassifier\n",
    "from sklearn.svm import LinearSVC\n",
    "from sklearn.neighbors import KNeighborsClassifier\n",
    "from sklearn.neural_network import MLPClassifier\n",
    "from sklearn.ensemble import GradientBoostingClassifier\n",
    "\n",
    "# Initialize base classifiers with default parameters\n",
    "base_classifiers = [\n",
    "    ('linear_svc', LinearSVC()),\n",
    "    ('kneighbors', KNeighborsClassifier()),\n",
    "    ('mlp', MLPClassifier(max_iter=100)),\n",
    "    ('gradient_boosting', GradientBoostingClassifier())\n",
    "]\n",
    "\n",
    "# Initialize BaggingClassifier with fewer base estimators\n",
    "bagging_classifier = BaggingClassifier(estimator=None, n_estimators=5, \n",
    "                                       max_samples=1.0, max_features=1.0, \n",
    "                                       bootstrap=True, bootstrap_features=False, \n",
    "                                       oob_score=False, warm_start=False, \n",
    "                                       n_jobs=None, random_state=None, verbose=0)\n",
    "\n",
    "print(\"Initializing Bagging Classifier with Fewer Base Estimators...\")\n",
    "time.sleep(1)  # Simulating initialization time\n",
    "print(\"Bagging Classifier Initialized with Fewer Base Estimators.\")\n",
    "\n",
    "# Train the Bagging classifier\n",
    "print(\"Training Bagging Classifier...\")\n",
    "bagging_classifier.fit(X_train_tvec, Y_train)\n",
    "print(\"Bagging Classifier Training Complete.\")\n",
    "\n",
    "# Predict using testing data\n",
    "print(\"Making Predictions with Bagging Classifier...\")\n",
    "bagging_predictions = bagging_classifier.predict(tvec.transform(X_test_cleaned))\n",
    "print(\"Prediction Complete with Bagging Classifier.\")\n",
    "\n",
    "# Classification report\n",
    "report = classification_report(Y_test, bagging_predictions, output_dict=True)\n",
    "data_report = pd.DataFrame(report).transpose().round(2)\n",
    "print(data_report)\n",
    "\n"
   ]
  },
  {
   "cell_type": "markdown",
   "id": "873f4885",
   "metadata": {},
   "source": [
    "<ul>\n",
    "  <li>\n",
    "    <strong>Bagging (Bootstrap Aggregating)</strong>:\n",
    "    <ul>\n",
    "      <li>Bagging is an ensemble learning technique.</li>\n",
    "      <li>It aims to improve the stability and accuracy of machine learning algorithms.</li>\n",
    "      <li>Bagging works by training multiple instances of a base learner on different subsets of the training data.</li>\n",
    "      <li>Each model's prediction is then averaged or combined in some way to make the final prediction.</li>\n",
    "    </ul>\n",
    "  </li>\n",
    "  <li>\n",
    "    <strong>Weak Learners:</strong>\n",
    "    <ul>\n",
    "      <li>In bagging, weak learners refer to the base models trained on subsets of the data.</li>\n",
    "      <li>These weak learners are typically simple models, such as decision trees.</li>\n",
    "      <li>Using multiple weak learners helps reduce overfitting and variance in the final prediction.</li>\n",
    "    </ul>\n",
    "  </li>\n",
    "  <li>\n",
    "    <strong>Initialization:</strong>\n",
    "    <ul>\n",
    "      <li>Initialize the Bagging Classifier with the chosen weak learners.</li>\n",
    "      <li>Each weak learner can be a different machine learning algorithm or a variant with different hyperparameters.</li>\n",
    "    </ul>\n",
    "  </li>\n",
    "  <li>\n",
    "    <strong>Training:</strong>\n",
    "    <ul>\n",
    "      <li>Train the Bagging Classifier on the training data.</li>\n",
    "      <li>Each weak learner is trained on a subset of the data, with replacement (bootstrap sampling).</li>\n",
    "    </ul>\n",
    "  </li>\n",
    "  <li>\n",
    "    <strong>Prediction:</strong>\n",
    "    <ul>\n",
    "      <li>Make predictions using the trained Bagging Classifier on the testing data.</li>\n",
    "      <li>Combine the predictions of all weak learners, typically by averaging or voting, to make the final prediction.</li>\n",
    "    </ul>\n",
    "  </li>\n",
    "  <li>\n",
    "    <strong>Evaluation:</strong>\n",
    "    <ul>\n",
    "      <li>Evaluate the performance of the Bagging Classifier using metrics such as accuracy, precision, recall, and F1-score.</li>\n",
    "      <li>Visualize the results using tools like confusion matrices or classification reports.</li>\n",
    "    </ul>\n",
    "  </li>\n",
    "</ul>"
   ]
  },
  {
   "cell_type": "code",
   "execution_count": null,
   "id": "fc154b55",
   "metadata": {},
   "outputs": [],
   "source": []
  }
 ],
 "metadata": {
  "kernelspec": {
   "display_name": "Python 3 (ipykernel)",
   "language": "python",
   "name": "python3"
  },
  "language_info": {
   "codemirror_mode": {
    "name": "ipython",
    "version": 3
   },
   "file_extension": ".py",
   "mimetype": "text/x-python",
   "name": "python",
   "nbconvert_exporter": "python",
   "pygments_lexer": "ipython3",
   "version": "3.11.4"
  }
 },
 "nbformat": 4,
 "nbformat_minor": 5
}
